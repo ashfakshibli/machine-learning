{
 "cells": [
  {
   "attachments": {},
   "cell_type": "markdown",
   "metadata": {},
   "source": [
    "Class 1\n",
    "#### CNN \n",
    "\n",
    "- Scan over matrices/images \n",
    "- data represented with lots of variables does not scale on fully connected layer\n",
    "- Number connections of rows/parameters complicated in  connected layers \n",
    "- We make it disconnected usin Convolutional neural network\n",
    "- DOT product of small squares\n",
    "- Source pixel - convolution filter - destination pixel\n",
    "- Convolution makes the matrix smaller.\n",
    "- Treat the small matrix numbers will detect horizontal edges (of image) - Kernel showed in lecture.\n",
    "- Transition of colors or borders\n",
    "- Convolution and cross-correlation\n",
    "- Kernel filters - Edge detection, Sharpen....\n",
    "- pooled feature maps -> make more advanced features\n",
    "-  pooling layer does resolution check.\n",
    "- 1 parameter padding\n",
    "- Stride another parameter\n",
    "\n",
    "### Learning CNN\n",
    "- ReLU\n",
    "- Ouutput 3D tensor. Number of feature maps\n",
    "- define parameters - not network parameters. \n",
    "- pooling - max/average\n"
   ]
  }
 ],
 "metadata": {
  "language_info": {
   "name": "python"
  },
  "orig_nbformat": 4
 },
 "nbformat": 4,
 "nbformat_minor": 2
}
