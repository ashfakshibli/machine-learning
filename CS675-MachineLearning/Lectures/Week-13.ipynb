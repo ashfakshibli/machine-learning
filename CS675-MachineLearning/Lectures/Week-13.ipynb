{
 "cells": [
  {
   "attachments": {},
   "cell_type": "markdown",
   "metadata": {},
   "source": [
    "### Last classs\n",
    "\n",
    "### Topics\n",
    "- SVM\n",
    "    - Liner. Maximize the margins. Similarity - Dot Product. Dual - W\n",
    "    - Kernels and Kernel-trick. \n",
    "- Optimization. Training process is an optimization processs\n",
    "    - Formullation (waht is the objective function, constraints). Objective function input - parameters. Output - Scalar value/Single dimension.\n",
    "    - GD and SGD\n",
    "- Neural Networks\n",
    "Whole pipeline should be differentiable. We need to be able to back propapgate and \n",
    "    - Fully connected (MLP) - Multilayer perceptron. Output of a layer is going all into next layer. Calculations are Multiplications and additions of matrices.\n",
    "    - CNN's\n",
    "        - Network is universal function \n",
    "        - number of parameters should be less than data points. otherwise we will get a space of solution not specific solution.\n",
    "        - if the graident goes to zero (when parameters and layers are llarger than needed)\n",
    "        - we don't need fully connected networks. We introduce convolutional networks.\n",
    "        - suuccessive reduction of resolution. increase the receptive field (3*3)\n",
    "        - network trained on lable data\n",
    "        - inference for classification\n",
    "        - learns representations, feature maps (cartesian to polar coordinates) \n",
    "        - manifold - works separated\n",
    "    - Autoencoders\n",
    "        - high dimensional input - passing through dimensionality reduction pipeline - compression - pca (linear transformation, shifting data to zero mean)\n",
    "        - used  in jpeg, mp3\n",
    "        - when you train variational autoencoders with cat images. from gaussian distribution decoder will generate a new cat image never seen before. deepfakes\n",
    "\n",
    "#### RNN\n",
    "\n",
    "- Background\n",
    "    - independent and identically distributed for regression analysis\n",
    "    - but it may be sequential\n",
    "    - Speech recognition - sequuential - chat\n",
    "    - sequence modeling - machine  translation\n",
    "    - introducing sort of memory\n",
    "- RNN\n",
    "    - learn from sequence\n",
    "    - use patterns to predict next move\n",
    "    - "
   ]
  },
  {
   "cell_type": "markdown",
   "metadata": {},
   "source": []
  }
 ],
 "metadata": {
  "language_info": {
   "name": "python"
  },
  "orig_nbformat": 4
 },
 "nbformat": 4,
 "nbformat_minor": 2
}
